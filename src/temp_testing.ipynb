{
 "cells": [
  {
   "cell_type": "code",
   "execution_count": 1,
   "metadata": {},
   "outputs": [],
   "source": [
    "import os\n",
    "os.chdir(\"c:\\\\Users\\\\Eduardo Pacheco\\\\Desktop\\\\Arquivos\\\\Personal\\\\SkateAI\")"
   ]
  },
  {
   "cell_type": "code",
   "execution_count": 2,
   "metadata": {},
   "outputs": [],
   "source": [
    "import torch\n",
    "import numpy as np\n",
    "import pandas as pd\n",
    "from torchvision import models\n",
    "from torchvision import transforms\n",
    "from torch.utils.data import DataLoader\n",
    "\n",
    "from models import ResNet18_RNN\n",
    "from dataset import TricksDataset, VideoToTensor"
   ]
  },
  {
   "cell_type": "code",
   "execution_count": 3,
   "metadata": {},
   "outputs": [],
   "source": [
    "resnet_transforms = models.resnet.ResNet18_Weights.DEFAULT.transforms()"
   ]
  },
  {
   "cell_type": "code",
   "execution_count": 4,
   "metadata": {},
   "outputs": [],
   "source": [
    "LABELS = [\n",
    "    \"body_rotation_type\",\n",
    "    \"body_rotation_number\",\n",
    "    \"board_rotation_type\",\n",
    "    \"board_rotation_number\",\n",
    "    \"flip_type\",\n",
    "    \"flip_number\",\n",
    "    \"landed\",\n",
    "    \"stance\"\n",
    "]"
   ]
  },
  {
   "cell_type": "code",
   "execution_count": 5,
   "metadata": {},
   "outputs": [
    {
     "data": {
      "text/html": [
       "<div>\n",
       "<style scoped>\n",
       "    .dataframe tbody tr th:only-of-type {\n",
       "        vertical-align: middle;\n",
       "    }\n",
       "\n",
       "    .dataframe tbody tr th {\n",
       "        vertical-align: top;\n",
       "    }\n",
       "\n",
       "    .dataframe thead th {\n",
       "        text-align: right;\n",
       "    }\n",
       "</style>\n",
       "<table border=\"1\" class=\"dataframe\">\n",
       "  <thead>\n",
       "    <tr style=\"text-align: right;\">\n",
       "      <th></th>\n",
       "      <th>video_file</th>\n",
       "      <th>video_title</th>\n",
       "      <th>video_url</th>\n",
       "      <th>video_source</th>\n",
       "      <th>trick_interval</th>\n",
       "      <th>trick_name</th>\n",
       "      <th>body_rotation_type</th>\n",
       "      <th>body_rotation_number</th>\n",
       "      <th>board_rotation_type</th>\n",
       "      <th>board_rotation_number</th>\n",
       "      <th>flip_type</th>\n",
       "      <th>flip_number</th>\n",
       "      <th>landed</th>\n",
       "      <th>stance</th>\n",
       "    </tr>\n",
       "  </thead>\n",
       "  <tbody>\n",
       "    <tr>\n",
       "      <th>0</th>\n",
       "      <td>00001.mp4</td>\n",
       "      <td>BATB 11 | Championship Battle: Luan Oliveira v...</td>\n",
       "      <td>https://www.youtube.com/watch?v=sDLIf7JVNnM</td>\n",
       "      <td>BATB 11</td>\n",
       "      <td>[149.6, 151.9]</td>\n",
       "      <td>treflip</td>\n",
       "      <td>0</td>\n",
       "      <td>0</td>\n",
       "      <td>1</td>\n",
       "      <td>2</td>\n",
       "      <td>1</td>\n",
       "      <td>1</td>\n",
       "      <td>1</td>\n",
       "      <td>0</td>\n",
       "    </tr>\n",
       "    <tr>\n",
       "      <th>1</th>\n",
       "      <td>00002.mp4</td>\n",
       "      <td>BATB 11 | Championship Battle: Luan Oliveira v...</td>\n",
       "      <td>https://www.youtube.com/watch?v=sDLIf7JVNnM</td>\n",
       "      <td>BATB 11</td>\n",
       "      <td>[154.2, 155.1]</td>\n",
       "      <td>treflip</td>\n",
       "      <td>0</td>\n",
       "      <td>0</td>\n",
       "      <td>1</td>\n",
       "      <td>2</td>\n",
       "      <td>1</td>\n",
       "      <td>1</td>\n",
       "      <td>1</td>\n",
       "      <td>0</td>\n",
       "    </tr>\n",
       "    <tr>\n",
       "      <th>2</th>\n",
       "      <td>00003.mp4</td>\n",
       "      <td>BATB 11 | Championship Battle: Luan Oliveira v...</td>\n",
       "      <td>https://www.youtube.com/watch?v=sDLIf7JVNnM</td>\n",
       "      <td>BATB 11</td>\n",
       "      <td>[159.4, 161.2]</td>\n",
       "      <td>kickflip</td>\n",
       "      <td>0</td>\n",
       "      <td>0</td>\n",
       "      <td>0</td>\n",
       "      <td>0</td>\n",
       "      <td>1</td>\n",
       "      <td>1</td>\n",
       "      <td>1</td>\n",
       "      <td>3</td>\n",
       "    </tr>\n",
       "    <tr>\n",
       "      <th>3</th>\n",
       "      <td>00004.mp4</td>\n",
       "      <td>BATB 11 | Championship Battle: Luan Oliveira v...</td>\n",
       "      <td>https://www.youtube.com/watch?v=sDLIf7JVNnM</td>\n",
       "      <td>BATB 11</td>\n",
       "      <td>[163.8, 166.0]</td>\n",
       "      <td>kickflip</td>\n",
       "      <td>0</td>\n",
       "      <td>0</td>\n",
       "      <td>0</td>\n",
       "      <td>0</td>\n",
       "      <td>1</td>\n",
       "      <td>1</td>\n",
       "      <td>1</td>\n",
       "      <td>3</td>\n",
       "    </tr>\n",
       "    <tr>\n",
       "      <th>4</th>\n",
       "      <td>00005.mp4</td>\n",
       "      <td>BATB 11 | Championship Battle: Luan Oliveira v...</td>\n",
       "      <td>https://www.youtube.com/watch?v=sDLIf7JVNnM</td>\n",
       "      <td>BATB 11</td>\n",
       "      <td>[169.5, 171.1]</td>\n",
       "      <td>kickflip</td>\n",
       "      <td>0</td>\n",
       "      <td>0</td>\n",
       "      <td>0</td>\n",
       "      <td>0</td>\n",
       "      <td>1</td>\n",
       "      <td>1</td>\n",
       "      <td>1</td>\n",
       "      <td>0</td>\n",
       "    </tr>\n",
       "  </tbody>\n",
       "</table>\n",
       "</div>"
      ],
      "text/plain": [
       "  video_file                                        video_title  \\\n",
       "0  00001.mp4  BATB 11 | Championship Battle: Luan Oliveira v...   \n",
       "1  00002.mp4  BATB 11 | Championship Battle: Luan Oliveira v...   \n",
       "2  00003.mp4  BATB 11 | Championship Battle: Luan Oliveira v...   \n",
       "3  00004.mp4  BATB 11 | Championship Battle: Luan Oliveira v...   \n",
       "4  00005.mp4  BATB 11 | Championship Battle: Luan Oliveira v...   \n",
       "\n",
       "                                     video_url video_source  trick_interval  \\\n",
       "0  https://www.youtube.com/watch?v=sDLIf7JVNnM      BATB 11  [149.6, 151.9]   \n",
       "1  https://www.youtube.com/watch?v=sDLIf7JVNnM      BATB 11  [154.2, 155.1]   \n",
       "2  https://www.youtube.com/watch?v=sDLIf7JVNnM      BATB 11  [159.4, 161.2]   \n",
       "3  https://www.youtube.com/watch?v=sDLIf7JVNnM      BATB 11  [163.8, 166.0]   \n",
       "4  https://www.youtube.com/watch?v=sDLIf7JVNnM      BATB 11  [169.5, 171.1]   \n",
       "\n",
       "  trick_name  body_rotation_type  body_rotation_number  board_rotation_type  \\\n",
       "0    treflip                   0                     0                    1   \n",
       "1    treflip                   0                     0                    1   \n",
       "2   kickflip                   0                     0                    0   \n",
       "3   kickflip                   0                     0                    0   \n",
       "4   kickflip                   0                     0                    0   \n",
       "\n",
       "   board_rotation_number  flip_type  flip_number  landed  stance  \n",
       "0                      2          1            1       1       0  \n",
       "1                      2          1            1       1       0  \n",
       "2                      0          1            1       1       3  \n",
       "3                      0          1            1       1       3  \n",
       "4                      0          1            1       1       0  "
      ]
     },
     "execution_count": 5,
     "metadata": {},
     "output_type": "execute_result"
    }
   ],
   "source": [
    "df = pd.read_csv(\"data/metadata/metadata.csv\")\n",
    "df.head()"
   ]
  },
  {
   "cell_type": "code",
   "execution_count": 6,
   "metadata": {},
   "outputs": [],
   "source": [
    "transformations = transforms.Compose(\n",
    "    [\n",
    "        resnet_transforms\n",
    "    ]\n",
    ")\n",
    "tricks_dataset = TricksDataset(csv_file=\"data\\\\metadata\\\\metadata.csv\", root_dir=\"data\\\\videos\", max_frames=69, transform=transformations)"
   ]
  },
  {
   "cell_type": "code",
   "execution_count": 7,
   "metadata": {},
   "outputs": [],
   "source": [
    "for video, _ in tricks_dataset:\n",
    "    break"
   ]
  },
  {
   "cell_type": "code",
   "execution_count": 8,
   "metadata": {},
   "outputs": [],
   "source": [
    "loader = DataLoader(tricks_dataset, batch_size=4)"
   ]
  },
  {
   "cell_type": "code",
   "execution_count": 9,
   "metadata": {},
   "outputs": [],
   "source": [
    "videos_batch, targets_batch = next(iter(loader))"
   ]
  },
  {
   "cell_type": "code",
   "execution_count": 10,
   "metadata": {},
   "outputs": [
    {
     "data": {
      "text/plain": [
       "{'body_rotation_type': tensor([0, 0, 0, 0]),\n",
       " 'body_rotation_number': tensor([0, 0, 0, 0]),\n",
       " 'board_rotation_type': tensor([1, 1, 0, 0]),\n",
       " 'board_rotation_number': tensor([2, 2, 0, 0]),\n",
       " 'flip_type': tensor([1, 1, 1, 1]),\n",
       " 'flip_number': tensor([1, 1, 1, 1]),\n",
       " 'landed': tensor([1, 1, 1, 1]),\n",
       " 'stance': tensor([0, 0, 3, 3])}"
      ]
     },
     "execution_count": 10,
     "metadata": {},
     "output_type": "execute_result"
    }
   ],
   "source": [
    "targets_batch"
   ]
  },
  {
   "cell_type": "code",
   "execution_count": 11,
   "metadata": {},
   "outputs": [],
   "source": [
    "MAX_FRAMES = 69\n",
    "RNN_TYPE = \"lstm\"\n",
    "RNN_LAYERS = 2\n",
    "RNN_HIDDEN = 100\n",
    "HEADS_PARAMS = {\n",
    "    \"in_features\": RNN_HIDDEN*MAX_FRAMES,\n",
    "    \"byrt\": [2, 2],\n",
    "    \"byrn\": [2, 2],\n",
    "    \"bdrt\": [2, 2],\n",
    "    \"bdrn\": [2, 2],\n",
    "    \"ft\": [2, 2],\n",
    "    \"fn\": [2, 2],\n",
    "    \"landed\": [2, 2],\n",
    "    \"stance\":[2, 2]\n",
    "}\n",
    "TRAINABLE_BACKBONE = False"
   ]
  },
  {
   "cell_type": "code",
   "execution_count": 12,
   "metadata": {},
   "outputs": [
    {
     "data": {
      "text/plain": [
       "tensor([11.])"
      ]
     },
     "execution_count": 12,
     "metadata": {},
     "output_type": "execute_result"
    }
   ],
   "source": [
    "1 + torch.Tensor([10])"
   ]
  },
  {
   "cell_type": "code",
   "execution_count": 13,
   "metadata": {},
   "outputs": [
    {
     "data": {
      "text/plain": [
       "dict_keys(['body_rotation_type', 'body_rotation_number', 'board_rotation_type', 'board_rotation_number', 'flip_type', 'flip_number', 'landed', 'stance'])"
      ]
     },
     "execution_count": 13,
     "metadata": {},
     "output_type": "execute_result"
    }
   ],
   "source": [
    "targets_batch.keys()"
   ]
  },
  {
   "cell_type": "code",
   "execution_count": 14,
   "metadata": {},
   "outputs": [],
   "source": [
    "model = ResNet18_RNN(\n",
    "    RNN_TYPE, \n",
    "    RNN_LAYERS, \n",
    "    RNN_HIDDEN, \n",
    "    HEADS_PARAMS, \n",
    "    TRAINABLE_BACKBONE\n",
    ")"
   ]
  },
  {
   "cell_type": "code",
   "execution_count": 15,
   "metadata": {},
   "outputs": [],
   "source": [
    "outs = model(videos_batch)"
   ]
  }
 ],
 "metadata": {
  "kernelspec": {
   "display_name": "SkateAI-K9OkN_Dw",
   "language": "python",
   "name": "python3"
  },
  "language_info": {
   "codemirror_mode": {
    "name": "ipython",
    "version": 3
   },
   "file_extension": ".py",
   "mimetype": "text/x-python",
   "name": "python",
   "nbconvert_exporter": "python",
   "pygments_lexer": "ipython3",
   "version": "3.9.6"
  },
  "orig_nbformat": 4,
  "vscode": {
   "interpreter": {
    "hash": "283a79c606d56b450aa69af648ebed1c44992214340d7350fde50bd716dcddf0"
   }
  }
 },
 "nbformat": 4,
 "nbformat_minor": 2
}
