{
 "cells": [
  {
   "cell_type": "code",
   "execution_count": 1,
   "metadata": {},
   "outputs": [],
   "source": [
    "import pytube as yt"
   ]
  },
  {
   "cell_type": "code",
   "execution_count": 2,
   "metadata": {},
   "outputs": [],
   "source": [
    "batb11 = yt.Playlist(\"https://www.youtube.com/playlist?list=PLmxvVi4Ors7aqc726ngHq1SwTrBGPjCSN\")"
   ]
  },
  {
   "cell_type": "code",
   "execution_count": 8,
   "metadata": {},
   "outputs": [
    {
     "name": "stdout",
     "output_type": "stream",
     "text": [
      "BATB 11 | Championship Battle: Luan Oliveira vs. Chris Joslin: https://www.youtube.com/watch?v=sDLIf7JVNnM\n",
      "BATB 11 | 3rd Place Battle: Tom Asta vs. Sewa Kroetkov: https://www.youtube.com/watch?v=A8z4OJByT-w\n",
      "BATB 11 | Semifinals: Chris Joslin vs. Tom Asta: https://www.youtube.com/watch?v=9IBFYTGfuAY\n",
      "BATB 11 | Semifinals: Luan Oliveira vs. Sewa Kroetkov: https://www.youtube.com/watch?v=V8Ree3Nf_HU\n",
      "BATB 11 | Tom Asta vs. Mike Mo Capaldi - Round 3: https://www.youtube.com/watch?v=wtSj7Mm8iTY\n",
      "BATB 11 | Chris Joslin vs. Felipe Gustavo - Round 3: https://www.youtube.com/watch?v=tVaWhYi9Y-4\n",
      "BATB 11 | Luan Oliveira vs. Ishod Wair - Round 3: https://www.youtube.com/watch?v=Ywho5I_eYos\n",
      "BATB 11 | Robert Neal vs. Sewa Kroetkov - Round 3: https://www.youtube.com/watch?v=Smyz7C0JuaI\n",
      "BATB 11 | Sean Malto vs. Mike Mo Capaldi - Round 2: https://www.youtube.com/watch?v=rtKfaTcdtPg\n",
      "BATB 11 | Chris Joslin vs. Cody Cepeda - Round 2: https://www.youtube.com/watch?v=H8m_BqOnBz0\n",
      "BATB 11 | Louie Lopez vs. Ishod Wair - Round 2: https://www.youtube.com/watch?v=Jp_uzv0XFaI\n",
      "BATB 11 | Trent McClung vs. Tom Asta - Round 2: https://www.youtube.com/watch?v=tBudXSb6Qjo\n",
      "BATB 11 | Diego Najera vs. Robert Neal - Round 2: https://www.youtube.com/watch?v=VriF33cgW_A\n",
      "BATB 11 | Felipe Gustavo vs. Trevor McClung - Round 2: https://www.youtube.com/watch?v=3ZZKlFkoqY8\n",
      "BATB 11 | Sewa Kroetkov vs. Walker Ryan - Round 2: https://www.youtube.com/watch?v=kJQt_hZ5Shk\n",
      "BATB 11 | Ishod Wair vs. TJ Rogers - Round 1: https://www.youtube.com/watch?v=-5PCBOhNvEc\n",
      "BATB 11 | Chris Roberts vs. Mike Mo Capaldi - Round 1: https://www.youtube.com/watch?v=WHxuoehY1Bw\n",
      "BATB 11 | Tom Asta vs. Tom Rohrer - Round 1: https://www.youtube.com/watch?v=Ugp2OdcTCg0\n",
      "BATB 11 | Trent McClung vs. John Dilorenzo - Round 1: https://www.youtube.com/watch?v=YBvzZ2JLahc\n",
      "BATB 11 | Felipe Gustavo vs. Nate Greenwood - Round 1: https://www.youtube.com/watch?v=4jJPd327INw\n",
      "BATB 11 | Taylor McClung vs. Robert Neal - Round 1: https://www.youtube.com/watch?v=c_iHIoTQxmY\n",
      "BATB 11 | Louie Lopez vs. Justin Drysen - Round 1: https://www.youtube.com/watch?v=JWxXqiQvRrE\n",
      "BATB 11 | Scott Decenzo vs. Sewa Kroetkov - Round 1: https://www.youtube.com/watch?v=hN7pXfer9y4\n",
      "BATB 11 | Trevor McClung vs. Jack Olson - Round 1: https://www.youtube.com/watch?v=9Xts0UyIS8Y\n",
      "BATB 11 | Chris Joslin vs. Carlos Ribeiro - Round 1: https://www.youtube.com/watch?v=Q2Npjwi8gzw\n",
      "BATB 11 | Kevin White vs. Hyun Kummer - Round 1: https://www.youtube.com/watch?v=sUOQQLWqb7g\n",
      "BATB 11 | Luan Oliveira vs. Chris Colbourn - Round 1: https://www.youtube.com/watch?v=auK0oDZGUpo\n",
      "BATB 11 | Walker Ryan vs. Dominick Walker - Round 1: https://www.youtube.com/watch?v=bjgoLD8UX3I\n",
      "BATB 11 | Cody Cepeda vs. Tyson Bowerbank - Round 1: https://www.youtube.com/watch?v=3ULhKtZ0HfY\n",
      "BATB 11 | Jamie Foy vs. Diego Najera - Round 1: https://www.youtube.com/watch?v=mbTW1WBokhU\n",
      "BATB 11 | Sean Malto vs. Eric Koston - Round 1: https://www.youtube.com/watch?v=9Y_tUSnhV1k\n"
     ]
    }
   ],
   "source": [
    "for title, url in zip([video.title for video in batb11.videos], batb11.video_urls):\n",
    "    print(f\"{title}: {url}\")"
   ]
  },
  {
   "cell_type": "code",
   "execution_count": 12,
   "metadata": {},
   "outputs": [
    {
     "data": {
      "text/plain": [
       "'BATB 11 | Championship Battle: Luan Oliveira vs. Chris Joslin'"
      ]
     },
     "execution_count": 12,
     "metadata": {},
     "output_type": "execute_result"
    }
   ],
   "source": [
    "batb11.videos[0].title"
   ]
  },
  {
   "cell_type": "code",
   "execution_count": 3,
   "metadata": {},
   "outputs": [
    {
     "data": {
      "text/plain": [
       "['https://www.youtube.com/watch?v=sDLIf7JVNnM', 'https://www.youtube.com/watch?v=A8z4OJByT-w', 'https://www.youtube.com/watch?v=9IBFYTGfuAY', 'https://www.youtube.com/watch?v=V8Ree3Nf_HU', 'https://www.youtube.com/watch?v=wtSj7Mm8iTY', 'https://www.youtube.com/watch?v=tVaWhYi9Y-4', 'https://www.youtube.com/watch?v=Ywho5I_eYos', 'https://www.youtube.com/watch?v=Smyz7C0JuaI', 'https://www.youtube.com/watch?v=rtKfaTcdtPg', 'https://www.youtube.com/watch?v=H8m_BqOnBz0', 'https://www.youtube.com/watch?v=Jp_uzv0XFaI', 'https://www.youtube.com/watch?v=tBudXSb6Qjo', 'https://www.youtube.com/watch?v=VriF33cgW_A', 'https://www.youtube.com/watch?v=3ZZKlFkoqY8', 'https://www.youtube.com/watch?v=kJQt_hZ5Shk', 'https://www.youtube.com/watch?v=-5PCBOhNvEc', 'https://www.youtube.com/watch?v=WHxuoehY1Bw', 'https://www.youtube.com/watch?v=Ugp2OdcTCg0', 'https://www.youtube.com/watch?v=YBvzZ2JLahc', 'https://www.youtube.com/watch?v=4jJPd327INw', 'https://www.youtube.com/watch?v=c_iHIoTQxmY', 'https://www.youtube.com/watch?v=JWxXqiQvRrE', 'https://www.youtube.com/watch?v=hN7pXfer9y4', 'https://www.youtube.com/watch?v=9Xts0UyIS8Y', 'https://www.youtube.com/watch?v=Q2Npjwi8gzw', 'https://www.youtube.com/watch?v=sUOQQLWqb7g', 'https://www.youtube.com/watch?v=auK0oDZGUpo', 'https://www.youtube.com/watch?v=bjgoLD8UX3I', 'https://www.youtube.com/watch?v=3ULhKtZ0HfY', 'https://www.youtube.com/watch?v=mbTW1WBokhU', 'https://www.youtube.com/watch?v=9Y_tUSnhV1k']"
      ]
     },
     "execution_count": 3,
     "metadata": {},
     "output_type": "execute_result"
    }
   ],
   "source": [
    "batb11.video_urls"
   ]
  },
  {
   "cell_type": "code",
   "execution_count": 18,
   "metadata": {},
   "outputs": [],
   "source": [
    "for idx, stream in enumerate(batb11.videos[0].streams.filter(res=\"720p\", file_extension='mp4', type=\"video\", only_video=True)):\n",
    "    stream.download(output_path=\"videos\", filename=f\"test{idx}.mp4\")"
   ]
  },
  {
   "cell_type": "code",
   "execution_count": 19,
   "metadata": {},
   "outputs": [
    {
     "data": {
      "text/plain": [
       "[<Stream: itag=\"136\" mime_type=\"video/mp4\" res=\"720p\" fps=\"30fps\" vcodec=\"avc1.4d401f\" progressive=\"False\" type=\"video\">, <Stream: itag=\"398\" mime_type=\"video/mp4\" res=\"720p\" fps=\"30fps\" vcodec=\"av01.0.05M.08\" progressive=\"False\" type=\"video\">]"
      ]
     },
     "execution_count": 19,
     "metadata": {},
     "output_type": "execute_result"
    }
   ],
   "source": [
    "batb11.videos[0].streams.filter(res=\"720p\", file_extension='mp4', type=\"video\", only_video=True)"
   ]
  }
 ],
 "metadata": {
  "interpreter": {
   "hash": "867c5919242419786f0c66b0a197a3ef00a37b38bf6a9997e4f5d61446632265"
  },
  "kernelspec": {
   "display_name": "Python 3.9.6 ('skate': venv)",
   "language": "python",
   "name": "python3"
  },
  "language_info": {
   "codemirror_mode": {
    "name": "ipython",
    "version": 3
   },
   "file_extension": ".py",
   "mimetype": "text/x-python",
   "name": "python",
   "nbconvert_exporter": "python",
   "pygments_lexer": "ipython3",
   "version": "3.9.6"
  },
  "orig_nbformat": 4
 },
 "nbformat": 4,
 "nbformat_minor": 2
}
