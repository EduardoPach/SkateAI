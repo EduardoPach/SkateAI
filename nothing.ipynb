{
 "cells": [
  {
   "cell_type": "code",
   "execution_count": 1,
   "metadata": {},
   "outputs": [],
   "source": [
    "import pytube as yt"
   ]
  },
  {
   "cell_type": "code",
   "execution_count": 2,
   "metadata": {},
   "outputs": [],
   "source": [
    "batb11 = yt.Playlist(\"https://www.youtube.com/playlist?list=PLmxvVi4Ors7aqc726ngHq1SwTrBGPjCSN\")"
   ]
  },
  {
   "cell_type": "code",
   "execution_count": 18,
   "metadata": {},
   "outputs": [],
   "source": [
    "for idx, stream in enumerate(batb11.videos[0].streams.filter(res=\"720p\", file_extension='mp4', type=\"video\", only_video=True)):\n",
    "    stream.download(output_path=\"videos\", filename=f\"test{idx}.mp4\")"
   ]
  },
  {
   "cell_type": "code",
   "execution_count": 19,
   "metadata": {},
   "outputs": [
    {
     "data": {
      "text/plain": [
       "[<Stream: itag=\"136\" mime_type=\"video/mp4\" res=\"720p\" fps=\"30fps\" vcodec=\"avc1.4d401f\" progressive=\"False\" type=\"video\">, <Stream: itag=\"398\" mime_type=\"video/mp4\" res=\"720p\" fps=\"30fps\" vcodec=\"av01.0.05M.08\" progressive=\"False\" type=\"video\">]"
      ]
     },
     "execution_count": 19,
     "metadata": {},
     "output_type": "execute_result"
    }
   ],
   "source": [
    "batb11.videos[0].streams.filter(res=\"720p\", file_extension='mp4', type=\"video\", only_video=True)"
   ]
  }
 ],
 "metadata": {
  "interpreter": {
   "hash": "6a2dfa45245630af11f334ed702f6f20d01c3da5a3d2dc69676ed8bbc3800d35"
  },
  "kernelspec": {
   "display_name": "Python 3.9.6 ('skate': venv)",
   "language": "python",
   "name": "python3"
  },
  "language_info": {
   "codemirror_mode": {
    "name": "ipython",
    "version": 3
   },
   "file_extension": ".py",
   "mimetype": "text/x-python",
   "name": "python",
   "nbconvert_exporter": "python",
   "pygments_lexer": "ipython3",
   "version": "3.9.6"
  },
  "orig_nbformat": 4
 },
 "nbformat": 4,
 "nbformat_minor": 2
}
